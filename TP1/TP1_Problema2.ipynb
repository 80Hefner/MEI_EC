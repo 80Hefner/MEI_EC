{
 "cells": [
  {
   "cell_type": "markdown",
   "metadata": {},
   "source": [
    "# Trabalho Prático 1 - Problema 2 - Grupo 18\n",
    "\n",
    "<hr>\n",
    "\n",
    "## Introdução ao problema\n",
    "\n",
    "Neste problema foi-nos proposto que construíssemos uma classe Python que implementasse um KEM-RSA. De seguida, devemos ser capazes de construir um PKE que seja IND-CCA seguro, usando o KEM construído anteriormente e a transformação de Fujisaki-Okamoto.\n",
    "\n",
    "<hr>\n",
    "\n",
    "## Resolução do problema"
   ]
  },
  {
   "cell_type": "code",
   "execution_count": 221,
   "metadata": {},
   "outputs": [],
   "source": [
    "import os, hashlib\n",
    "\n",
    "class KEM_RSA_receiver:\n",
    "\n",
    "    def __init__(self, param_size):\n",
    "        self.p = random_prime(2**param_size - 1, False, 2**(param_size-1))\n",
    "        self.q = random_prime(2**(param_size+1) - 1, False, 2**param_size)\n",
    "        self.n = self.p * self.q\n",
    "        self.phi = (self.p-1) * (self.q-1)\n",
    "\n",
    "        self.pu = ZZ.random_element(self.phi)\n",
    "        while gcd(self.pu, self.phi) != 1:\n",
    "            self.pu = ZZ.random_element(self.phi)\n",
    "        \n",
    "        self.__pr = Integer( mod( xgcd(self.pu, self.phi)[1], self.phi ) )\n",
    "\n",
    "    def h(self):\n",
    "\n",
    "        return ZZ.random_element(self.n)\n",
    "\n",
    "    def f(self, r, salt):\n",
    "        e = power_mod(int(r.decode()), self.pu, self.n)\n",
    "\n",
    "        k = hashlib.pbkdf2_hmac('sha256', r, salt, 500000)\n",
    "\n",
    "        return(str(e).encode(), k)\n",
    "\n",
    "    def reveal(self, salt, c):\n",
    "\n",
    "        r = power_mod(int(c.decode()), self.__pr, self.n)\n",
    "\n",
    "        k = hashlib.pbkdf2_hmac('sha256', str(r).encode(), salt, 500000)\n",
    "\n",
    "        return k\n"
   ]
  },
  {
   "cell_type": "code",
   "execution_count": 222,
   "metadata": {},
   "outputs": [],
   "source": [
    "class KEM_RSA_sender:\n",
    "\n",
    "    def __init__(self, pu, n):\n",
    "\n",
    "        self.pu = pu\n",
    "        self.n = n\n",
    "    \n",
    "    def h(self):\n",
    "\n",
    "        return ZZ.random_element(self.n)\n",
    "\n",
    "    def f(self, r, salt):\n",
    "        e = power_mod(int(r.decode()), self.pu, self.n)\n",
    "\n",
    "        k = hashlib.pbkdf2_hmac('sha256', r, salt, 500000)\n",
    "\n",
    "        return(str(e).encode(), k)\n",
    "\n",
    "    def encapsulate(self):\n",
    "\n",
    "        r = self.h()\n",
    "\n",
    "        salt = os.urandom(16)\n",
    "        ek = self.f(str(r).encode(), salt)\n",
    "\n",
    "        return (ek, salt)\n"
   ]
  },
  {
   "cell_type": "code",
   "execution_count": 223,
   "metadata": {},
   "outputs": [
    {
     "name": "stdout",
     "output_type": "stream",
     "text": [
      "Encapsulated key: b\"\\xdbH\\x98Fbo\\x8a\\xc5$Ayg&N\\x9f']\\xcf\\x86\\x01\\xe8\\xa9\\xab\\xf6\\xa6\\x1c\\x10\\xe3a\\x11\\xdb\\xaf\"\n",
      "Decapsulated key: b\"\\xdbH\\x98Fbo\\x8a\\xc5$Ayg&N\\x9f']\\xcf\\x86\\x01\\xe8\\xa9\\xab\\xf6\\xa6\\x1c\\x10\\xe3a\\x11\\xdb\\xaf\"\n"
     ]
    }
   ],
   "source": [
    "kem_rsa_receiver = KEM_RSA_receiver(1024)\n",
    "kem_rsa_sender = KEM_RSA_sender(kem_rsa_receiver.pu, kem_rsa_receiver.n)\n",
    "\n",
    "(ek, salt) = kem_rsa_sender.encapsulate()\n",
    "print('Encapsulated key:', ek[1])\n",
    "\n",
    "decapsulated_key = kem_rsa_receiver.reveal(salt, ek[0])\n",
    "print('Decapsulated key:', decapsulated_key)"
   ]
  },
  {
   "cell_type": "code",
   "execution_count": 224,
   "metadata": {},
   "outputs": [],
   "source": [
    "def xor(xs, ys):\n",
    "    \n",
    "    masked = b''\n",
    "    i = 0\n",
    "    while i < len(xs):\n",
    "        for j in range(len(ys)):\n",
    "            if i < len(xs):\n",
    "                masked += (xs[i] ^^ ys[j]).to_bytes(1, byteorder='big')\n",
    "                i += 1\n",
    "            else:\n",
    "                break\n",
    "                \n",
    "    return masked\n"
   ]
  },
  {
   "cell_type": "code",
   "execution_count": 225,
   "metadata": {},
   "outputs": [],
   "source": [
    "class PKE_sender:\n",
    "\n",
    "    def __init__(self, kem_rsa):\n",
    "        self.kem_rsa = kem_rsa\n",
    "            \n",
    "    def encrypt(self, x):\n",
    "\n",
    "        # ϑr ← h\n",
    "        r = self.kem_rsa.h()\n",
    "\n",
    "        # ϑy ← x ⊕ g(r)\n",
    "        gr = hashlib.sha256(str(r).encode()).digest()\n",
    "        y = xor(x, gr)\n",
    "\n",
    "        # (e,k) ← f(y∥r)\n",
    "        yi = Integer('0x' + hashlib.sha256(y).hexdigest())\n",
    "        salt = os.urandom(16)\n",
    "        (e, k) = self.kem_rsa.f(str(yi + r).encode(), salt)\n",
    "\n",
    "        # ϑc ← k ⊕ r\n",
    "        c = xor(str(r).encode(), k)\n",
    "\n",
    "        # E​′​​(x) ≡ (y,e,c)\n",
    "        return (y, (e, salt), c)\n"
   ]
  },
  {
   "cell_type": "code",
   "execution_count": 226,
   "metadata": {},
   "outputs": [],
   "source": [
    "class PKE_receiver:\n",
    "\n",
    "    def __init__(self, kem_rsa):\n",
    "        self.kem_rsa = kem_rsa\n",
    "        \n",
    "    def decrypt(self, y, e, salt, c):\n",
    "\n",
    "        # ϑk ← KREv(e)\n",
    "        k = self.kem_rsa.reveal(salt, e)\n",
    "\n",
    "        # ϑr ← c ⊕ k\n",
    "        r = xor(c, k)\n",
    "\n",
    "        # if (e,k) ≠ f(y∥r) then ⊥ else y ⊕ g(r)\n",
    "        yi = Integer('0x' + hashlib.sha256(y).hexdigest())\n",
    "        ek = self.kem_rsa.f(str(yi + int(r)).encode(), salt)\n",
    "\n",
    "        if (e, k) != (ek[0], ek[1]): # if (e,k) ≠ f(y∥r) then ⊥\n",
    "            raise IOError\n",
    "        else: # else y ⊕ g(r)\n",
    "            gr = hashlib.sha256(r).digest()\n",
    "            pt = xor(y, gr)\n",
    "\n",
    "        # D​′​​(y,e,c)\n",
    "        return pt\n"
   ]
  },
  {
   "cell_type": "code",
   "execution_count": 227,
   "metadata": {},
   "outputs": [
    {
     "name": "stdout",
     "output_type": "stream",
     "text": [
      "A mensagem foi recebida corretamente.\n"
     ]
    }
   ],
   "source": [
    "msg = 'Hello World!'\n",
    "pke_sender = PKE_sender(kem_rsa_sender)\n",
    "(y, (e, salt), c) = pke_sender.encrypt(msg.encode())\n",
    "\n",
    "pke_receiver = PKE_receiver(kem_rsa_receiver)\n",
    "pt = pke_receiver.decrypt(y, e, salt, c)\n",
    "\n",
    "if (msg == pt.decode()):\n",
    "    print('A mensagem foi recebida corretamente.')\n",
    "else:\n",
    "    print('A mensagem foi recebida incorretamente.')"
   ]
  }
 ],
 "metadata": {
  "interpreter": {
   "hash": "54cb6ea736e9176f2e356eb14eb3ad8865bbadf3991480e52e9b3de9146bf5c4"
  },
  "kernelspec": {
   "display_name": "SageMath 9.5",
   "language": "sage",
   "name": "sagemath"
  },
  "language_info": {
   "codemirror_mode": {
    "name": "ipython",
    "version": 3
   },
   "file_extension": ".py",
   "mimetype": "text/x-python",
   "name": "python",
   "nbconvert_exporter": "python",
   "pygments_lexer": "ipython3",
   "version": "3.9.10"
  },
  "orig_nbformat": 4
 },
 "nbformat": 4,
 "nbformat_minor": 2
}
