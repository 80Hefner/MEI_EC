{
 "cells": [
  {
   "cell_type": "markdown",
   "id": "3e8773db",
   "metadata": {},
   "source": [
    "# Trabalho Prático 0 - Problema 2 - Grupo 18\n",
    "\n",
    "<hr>\n",
    "\n",
    "## Introdução ao problema\n",
    "\n",
    "Neste problema foi-nos proposto criar uma cifra com autenticação de metadados a partir de um gerador pseudo aleatório, com as seguintes restrições:\n",
    "\n",
    "- O gerador terá de ser do tipo \"Extended Output Function\", usar o SHAKE256 e gerar sequências de palavras de 64 bits;\n",
    "\n",
    "- O gerador deve ser capaz de gerar um limite de 2^n palavras, sendo n um parâmetro, armazenando-as em *long integers*;\n",
    "\n",
    "- A \"seed\" do gerador funciona como uma chave de cifragem e é gerada por um KDF, a partir de uma \"password\";\n",
    "\n",
    "- A autenticação do criptograma e dos dados associados é feita usando o SHAKE256;\n",
    "\n",
    "- É necessário definir os algoritmos de cifrar e de decifrar, sendo que para cifrar ou decifrar uma mensagem com blocos de 64 bits os \"outputs\" do gerador são usados como máscaras XOR dos blocos da mensagem. Desta forma, a cifra básica torna-se uma implementação do algoritmo \"One Time Pad\".\n",
    "\n",
    "<hr>\n",
    "\n",
    "## Resolução do problema\n",
    "\n",
    "### Imports"
   ]
  },
  {
   "cell_type": "code",
   "execution_count": 1,
   "id": "b6bdfdee-0fd7-4aa2-8e14-1e2150e21904",
   "metadata": {},
   "outputs": [],
   "source": [
    "import os, sys, string, getpass, pickle\n",
    "\n",
    "from pickle import dumps\n",
    "from string import printable\n",
    "\n",
    "from cryptography.hazmat.primitives.kdf.pbkdf2 import PBKDF2HMAC\n",
    "from cryptography.hazmat.backends import default_backend\n",
    "from cryptography.hazmat.primitives import hashes, hmac\n",
    "from cryptography.hazmat.primitives.kdf.hkdf import HKDF"
   ]
  },
  {
   "cell_type": "markdown",
   "id": "d8246670",
   "metadata": {},
   "source": [
    "### Gerador pseudo aleatório do tipo XOF\n",
    "\n",
    "A função seguinte gera 2^n sequências de 8 bytes, usando a seed obtida através da password. "
   ]
  },
  {
   "cell_type": "code",
   "execution_count": 2,
   "id": "019d5425-91ef-4564-b42f-ae729b6e4438",
   "metadata": {},
   "outputs": [],
   "source": [
    "# A cryptographic hash function takes an arbitrary block of data and calculates a fixed-size bit string (a digest), such that different data results (with a high probability) in different digests.\n",
    "\n",
    "# Função responsável pelo gerador XOF que cria sequências de palavras de 64 bits\n",
    "def geradorXOF(n, generatedKey):\n",
    "    \n",
    "    # A cryptographic hash function takes an arbitrary block of data and calculates a fixed-size bit string (a digest),\n",
    "    # such that different data results (with a high probability) in different digests.\n",
    "    # Dentro de hashes.SHAKE256((2 ** n) * 8) estamos a definir o tamanho do digest (maxímos de bits dado o número máximo de palavras)\n",
    "    digest = hashes.Hash(hashes.SHAKE256(nrPalavras*8))\n",
    "    digest.update(generatedKey)\n",
    "    words = digest.finalize()\n",
    "\n",
    "    return words\n"
   ]
  },
  {
   "cell_type": "markdown",
   "id": "b71f46f5",
   "metadata": {},
   "source": [
    "### Gerador de seed\n",
    "\n",
    "O gerador seguinte é responsável por receber uma password e gerar uma seed, através de uma KDF, neste caso a PBKDF2HMAC."
   ]
  },
  {
   "cell_type": "code",
   "execution_count": 3,
   "id": "d5bce80e-4bb4-4510-848b-4c3ce34c293b",
   "metadata": {},
   "outputs": [],
   "source": [
    "# Função responsável por gerar a seed que será utilizada na RPG (Pseudo Random Generator)\n",
    "def seedGeneration(palavraChave):\n",
    "    \n",
    "    # Salts devem ser gerads de forma aleatória (melhor forma possível, apesar de poder ser escolhido arbitrariamente, mas não é a melhor forma)\n",
    "    salt = os.urandom(16)\n",
    "    \n",
    "    # derive\n",
    "    kdf = PBKDF2HMAC(\n",
    "        algorithm=hashes.SHA256(),\n",
    "        length=32,\n",
    "        salt=salt,\n",
    "        iterations=390000,\n",
    "        backend=default_backend()\n",
    "    )\n",
    "    \n",
    "    # Derivação da seed\n",
    "    seed = kdf.derive(palavraChave)\n",
    "    \n",
    "    return seed\n"
   ]
  },
  {
   "cell_type": "markdown",
   "id": "44fb709a",
   "metadata": {},
   "source": [
    "### Gerador de valor de autenticação\n",
    "\n",
    "Este gerador recebe uma chave de autenticação e um pacote e retribui o seu valor de autenticação."
   ]
  },
  {
   "cell_type": "code",
   "execution_count": 4,
   "id": "c05f1643-ebf6-4c34-a0da-6bda741590e1",
   "metadata": {},
   "outputs": [],
   "source": [
    "# Função responsável pela geração do valor de autenticação\n",
    "def generateMac(hmac_key, package):\n",
    "    \n",
    "    h = hmac.HMAC(hmac_key, hashes.SHA256(), backend = default_backend())\n",
    "    h.update(package)\n",
    "    \n",
    "    return h.finalize()\n"
   ]
  },
  {
   "cell_type": "markdown",
   "id": "1df112c8",
   "metadata": {},
   "source": [
    "### Cifragem de um bloco\n",
    "\n",
    "Esta função é responsável por cifrar um único bloco de 64 bits.\n",
    "\n",
    "O algoritmo começa por agrupar os argumentos da função em tuplos de caracteres. Depois, itera sobre estes e executa a operação XOR para cada tuplo, guardando o seu valor numa lista de caracteres cifrados. No final da execução, retorna esta lista, senda ela correspondente ao bloco cifrado."
   ]
  },
  {
   "cell_type": "code",
   "execution_count": 5,
   "id": "7747a29f-c80f-4e24-856b-ba60a4a6fb65",
   "metadata": {},
   "outputs": [],
   "source": [
    "# Função responsável por cifrar cada bloco de 64 bits\n",
    "def encryptBlock(plainTextBlock, generatedEncryptedWord):\n",
    "    \n",
    "    # String variable that will contain all the shifted values\n",
    "    ciphertext = \"\"\n",
    "\n",
    "    for text_character, generatedEncryptedWord_character in zip(plainTextBlock, generatedEncryptedWord):\n",
    "        if text_character not in printable:\n",
    "            raise ValueError(f\"Text value: {text_character} provided is not printable ascii\")\n",
    "\n",
    "        # Completed the XOR of the characters ordinance (integer representation)\n",
    "        xored_value = ord(text_character) ^ generatedEncryptedWord_character\n",
    "\n",
    "        # Takes resulting integer from XOR operation and converts it to a character\n",
    "        ciphertext_character = chr(xored_value)\n",
    "\n",
    "        # Add the generated character to the ciphertext\n",
    "        ciphertext += (ciphertext_character)\n",
    "\n",
    "    # Return do bloco cifrado\n",
    "    return ciphertext"
   ]
  },
  {
   "cell_type": "markdown",
   "id": "183f59d3",
   "metadata": {},
   "source": [
    "### Cifragem de uma mensagem\n",
    "\n",
    "Esta função é responsável por cifrar uma mensagem inteira.\n",
    "\n",
    "O algoritmo divide os argumentos da função em blocos de 64 bits e itera sobre eles, usando a função encryptBlock para cada um. Em cada iteração, vai reunindo o valor retornado numa lista de caracteres e retorna-a no fim, sendo esta a mensagem cifrada."
   ]
  },
  {
   "cell_type": "code",
   "execution_count": 6,
   "id": "7c29e3ea",
   "metadata": {},
   "outputs": [],
   "source": [
    "# Função responsável por cifrar uma mensagem completa\n",
    "def encryptMessage(plainTextMessage, generatedEncryptedWords):\n",
    "    \n",
    "    # String variable that will contain all the shifted values\n",
    "    ciphertext = \"\"\n",
    "    \n",
    "    # Criar array que dvide a mensagem em blocos de 2^nrBytesPalavra Bits\n",
    "    messageBlocks = []    \n",
    "    for i in range(0, len(plainTextMessage), nrBytesPalavra):\n",
    "        messageBlocks.append(plainTextMessage[i : i+nrBytesPalavra])\n",
    "\n",
    "    # Criar array que dvide palavras geradas por XOF em blocos de 2^nrBytesPalavra Bits\n",
    "    wordBlocks = []\n",
    "    for i in range(0, len(generatedEncryptedWords), nrBytesPalavra):\n",
    "        wordBlocks.append(generatedEncryptedWords[i : i+nrBytesPalavra])\n",
    "        \n",
    "    # Cifrar cada um dos blocos de 2^nrBytesPalavra Bits e acrescentar ao cipherText final\n",
    "    for plainTextBlock, outputBlock in zip(messageBlocks, wordBlocks):\n",
    "        cipherBlock = encryptBlock(plainTextBlock, outputBlock)\n",
    "        ciphertext += cipherBlock\n",
    "    \n",
    "    # Returno do texto cifrdo\n",
    "    return ciphertext"
   ]
  },
  {
   "cell_type": "markdown",
   "id": "a2eec350",
   "metadata": {},
   "source": [
    "### Decifragem de um bloco\n",
    "\n",
    "Esta função é responsável por decifrar um único bloco de 64 bits.\n",
    "\n",
    "O algoritmo começa por agrupar os argumentos da função em tuplos de caracteres. Depois, itera sobre estes e executa a operação XOR para cada tuplo, guardando o seu valor numa lista de caracteres decifrados. No final da execução, retorna esta lista, senda ela correspondente ao bloco decifrado."
   ]
  },
  {
   "cell_type": "code",
   "execution_count": 7,
   "id": "a6c352b3-d41a-42ed-ab4d-cd2d2c4330c1",
   "metadata": {},
   "outputs": [],
   "source": [
    "# Função responsável por decifrar cada bloco de 64 bits\n",
    "def decryptBlock(ciphertext, generatedEncryptedWord):\n",
    "\n",
    "    # String variable that will contain all the plain text values\n",
    "    plaintext = \"\"\n",
    "\n",
    "    for generatedEncryptedWord_character, ciphertext_number in zip(generatedEncryptedWord, ciphertext):\n",
    "        xored_value = generatedEncryptedWord_character ^ ord(ciphertext_number)\n",
    "        plaintext  += chr(xored_value)\n",
    "\n",
    "    return plaintext"
   ]
  },
  {
   "cell_type": "markdown",
   "id": "f7be62a8",
   "metadata": {},
   "source": [
    "### Decifragem de uma mensagem\n",
    "\n",
    "Esta função é responsável por decifrar uma mensagem inteira.\n",
    "\n",
    "O algoritmo divide os argumentos da função em blocos de 64 bits e itera sobre eles, usando a função decryptBlock para cada um. Em cada iteração, vai reunindo o valor retornado numa lista de caracteres e retorna-a no fim, sendo esta a mensagem decifrada."
   ]
  },
  {
   "cell_type": "code",
   "execution_count": 8,
   "id": "dda2a27b",
   "metadata": {},
   "outputs": [],
   "source": [
    "# Função responsável por decifrar uma mensagem cifrada completa\n",
    "def decryptMessage(ciphertextMessage, generatedEncryptedWords):\n",
    "\n",
    "    # String variable that will contain all the plain text values\n",
    "    plainText = \"\"\n",
    "    \n",
    "    # Criar array que dvide a mensagem em blocos de 2^nrBytesPalavra Bits\n",
    "    messageBlocks = []    \n",
    "    for i in range(0, len(ciphertextMessage), nrBytesPalavra):\n",
    "        messageBlocks.append(ciphertextMessage[i : i+nrBytesPalavra])\n",
    "\n",
    "    # Criar array que dvide palavras geradas por XOF em blocos de 2^nrBytesPalavra Bits\n",
    "    wordBlocks = []\n",
    "    for i in range(0, len(generatedEncryptedWords), nrBytesPalavra):\n",
    "        wordBlocks.append(generatedEncryptedWords[i : i+nrBytesPalavra])\n",
    "        \n",
    "    # Cifrar cada um dos blocos de 2^nrBytesPalavra Bits e acrescentar ao cipherText final\n",
    "    for cipherTextBlock, outputBlock in zip(messageBlocks, wordBlocks):\n",
    "        plainBlock = decryptBlock(cipherTextBlock, outputBlock)\n",
    "        plainText += plainBlock\n",
    "\n",
    "    return plainText"
   ]
  },
  {
   "cell_type": "markdown",
   "id": "7fffd935-f839-4332-9eac-173231d66c15",
   "metadata": {},
   "source": [
    "### Execução do programa\n",
    "\n",
    "Aqui podemos encontrar a execução de programa que é capaz de criar uma cifra e cifrar um pacote contendo uma mensagem e metadados.\n",
    "\n",
    "Este começa por definir algumas constantes para a sua execução. Depois, gera a seed através da password e usa o gerador pseudo aleatório XOF para gerar palavras de 64 bits. Usando estas palavras, cifra o texto inicial, convertendo-o em texto cifrado. Por fim, junta o texto cifrado e os metadados e calcula o seu valor de autenticação, juntado-os num pacote, pronto para ser enviado.\n",
    "\n",
    "De forma a verificar a correta execução da programa, é testado se o valor de autenticação calculado anteriormente coincide com o valor esperado do pacote."
   ]
  },
  {
   "cell_type": "code",
   "execution_count": 9,
   "id": "e328c76f-fea0-4957-ae01-12973025b3bb",
   "metadata": {},
   "outputs": [
    {
     "name": "stdout",
     "output_type": "stream",
     "text": [
      "Original Text: Eu quero cifrar esta frase com um one time pad\n",
      "Decrypt Text: Eu quero cifrar esta frase com um one time pad\n"
     ]
    }
   ],
   "source": [
    "# Número arbitrário n (máximo 2^n palavras)\n",
    "n = 4\n",
    "\n",
    "# Número máimo de palavras\n",
    "nrPalavras = 2**n\n",
    "\n",
    "# Numero de bytes (palavras de 64 bits)\n",
    "nrBytesPalavra = 8\n",
    "\n",
    "# Numero de bits de cada palavras \n",
    "nrBitsPalavra = 2**nrBytesPalavra\n",
    "\n",
    "\n",
    "\n",
    "\n",
    "# Palavra chave escolhida pelo Utilizador\n",
    "passwordUtilizador = \"password\"\n",
    "\n",
    "# Plaintext para cifrar\n",
    "textoInicial = \"Eu quero cifrar esta frase com um one time pad\"\n",
    "\n",
    "print('Original Text: ' + textoInicial)\n",
    "\n",
    "\n",
    "\n",
    "# Gerar seed através de uma KDF (temos de passar palavra-chave em bytes)\n",
    "seed = seedGeneration(passwordUtilizador.encode('utf-8'))\n",
    "\n",
    "# Gerar através de XOF sequências de palavras de 64 bits (utilizando como fatores o n arbitrário e a key conseguida)\n",
    "generatedWords = geradorXOF(n, seed)\n",
    "\n",
    "\n",
    "\n",
    "\n",
    "# Cifrar o texto incial\n",
    "cipherText = encryptMessage(textoInicial, generatedWords)\n",
    "\n",
    "\n",
    "\n",
    "\n",
    "# Gerar dos metadados como valores pseudo-aleatórios\n",
    "associatedData = os.urandom(16)\n",
    "\n",
    "# Criar dicionário com o textoCifrado e os metadados\n",
    "message = {'text': cipherText, 'ad': associatedData}\n",
    "\n",
    "# Gerar código de autenticação para a mensagem final\n",
    "hmac_key = generateMac(seed,dumps(message))\n",
    "\n",
    "# Criar o pacote contendo a mensagem e o valor de autenticação\n",
    "package = {'message': message, 'hmac': hmac_key}\n",
    "\n",
    "\n",
    "\n",
    "\n",
    "# Verificar se o Utilizador é autenticado corretamente e, se sim, decifrar o texto cifrado\n",
    "if hmac_key == generateMac(seed,dumps(package['message'])):\n",
    "\n",
    "        decrypt_text = decryptMessage(package['message']['text'], generatedWords)\n",
    "        print('Decrypt Text: ' + decrypt_text)\n",
    "else:\n",
    "        print('ERROR - Different keys used.')\n"
   ]
  }
 ],
 "metadata": {
  "kernelspec": {
   "display_name": "Python 3 (ipykernel)",
   "language": "python",
   "name": "python3"
  },
  "language_info": {
   "codemirror_mode": {
    "name": "ipython",
    "version": 3
   },
   "file_extension": ".py",
   "mimetype": "text/x-python",
   "name": "python",
   "nbconvert_exporter": "python",
   "pygments_lexer": "ipython3",
   "version": "3.9.7"
  }
 },
 "nbformat": 4,
 "nbformat_minor": 5
}
